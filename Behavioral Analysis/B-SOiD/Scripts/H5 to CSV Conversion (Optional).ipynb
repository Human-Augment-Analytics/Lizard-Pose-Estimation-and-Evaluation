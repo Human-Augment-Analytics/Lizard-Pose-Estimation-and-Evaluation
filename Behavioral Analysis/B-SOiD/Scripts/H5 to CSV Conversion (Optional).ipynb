{
 "cells": [
  {
   "cell_type": "code",
   "execution_count": null,
   "id": "3531be36",
   "metadata": {},
   "outputs": [],
   "source": [
    "# Imports\n",
    "import pandas as pd\n",
    "\n",
    "# Give the Current H5 File and Desired CSV File Name\n",
    "h5_file = 'videos/0001_vid_60secs_eDLC_Resnet50_dlc_modelJul26shuffle1_snapshot_125_el.h5'\n",
    "csv_file = 'videos/0001_vid_60secs_eDLC_Resnet50_dlc_modelJul26shuffle1_snapshot_125_el.csv'\n",
    "\n",
    "# Convert H5 to CSV\n",
    "data = pd.read_hdf(h5_file)\n",
    "data.to_csv(csv_file)"
   ]
  }
 ],
 "metadata": {
  "kernelspec": {
   "display_name": "Python [conda env:.conda-DEEPLABCUT]",
   "language": "python",
   "name": "conda-env-.conda-DEEPLABCUT-py"
  },
  "language_info": {
   "codemirror_mode": {
    "name": "ipython",
    "version": 3
   },
   "file_extension": ".py",
   "mimetype": "text/x-python",
   "name": "python",
   "nbconvert_exporter": "python",
   "pygments_lexer": "ipython3",
   "version": "3.10.15"
  }
 },
 "nbformat": 4,
 "nbformat_minor": 5
}
